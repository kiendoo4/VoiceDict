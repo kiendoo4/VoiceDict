{
 "cells": [
  {
   "cell_type": "code",
   "execution_count": 1,
   "id": "dbac2e34",
   "metadata": {},
   "outputs": [
    {
     "name": "stdout",
     "output_type": "stream",
     "text": [
      "Requirement already satisfied: beautifulsoup4 in /Library/Frameworks/Python.framework/Versions/3.12/lib/python3.12/site-packages (4.13.5)\n",
      "Requirement already satisfied: lxml in /Library/Frameworks/Python.framework/Versions/3.12/lib/python3.12/site-packages (6.0.0)\n",
      "Requirement already satisfied: openpyxl in /Library/Frameworks/Python.framework/Versions/3.12/lib/python3.12/site-packages (3.1.5)\n",
      "Requirement already satisfied: soupsieve>1.2 in /Library/Frameworks/Python.framework/Versions/3.12/lib/python3.12/site-packages (from beautifulsoup4) (2.8)\n",
      "Requirement already satisfied: typing-extensions>=4.0.0 in /Library/Frameworks/Python.framework/Versions/3.12/lib/python3.12/site-packages (from beautifulsoup4) (4.14.1)\n",
      "Requirement already satisfied: et-xmlfile in /Library/Frameworks/Python.framework/Versions/3.12/lib/python3.12/site-packages (from openpyxl) (2.0.0)\n",
      "\n",
      "\u001b[1m[\u001b[0m\u001b[34;49mnotice\u001b[0m\u001b[1;39;49m]\u001b[0m\u001b[39;49m A new release of pip is available: \u001b[0m\u001b[31;49m24.3.1\u001b[0m\u001b[39;49m -> \u001b[0m\u001b[32;49m25.2\u001b[0m\n",
      "\u001b[1m[\u001b[0m\u001b[34;49mnotice\u001b[0m\u001b[1;39;49m]\u001b[0m\u001b[39;49m To update, run: \u001b[0m\u001b[32;49mpython3 -m pip install --upgrade pip\u001b[0m\n",
      "Note: you may need to restart the kernel to use updated packages.\n"
     ]
    }
   ],
   "source": [
    "%pip install beautifulsoup4 lxml openpyxl"
   ]
  },
  {
   "cell_type": "code",
   "execution_count": null,
   "id": "10488f9e",
   "metadata": {},
   "outputs": [
    {
     "name": "stdout",
     "output_type": "stream",
     "text": [
      "Converted ../data/html/vi-ko.html to ../data/dictionaries/vi-ko.xlsx with 11729 entries.\n",
      "Converted ../data/html/ko-vi.html to ../data/dictionaries/ko-vi.xlsx with 568 entries.\n",
      "Converted ../data/html/ge-vi.html to ../data/dictionaries/ge-vi.xlsx with 23543 entries.\n",
      "Converted ../data/html/vi-ge.html to ../data/dictionaries/vi-ge.xlsx with 11432 entries.\n"
     ]
    }
   ],
   "source": [
    "from html_handler import convert_html_to_xlsx\n",
    "from pathlib import Path\n",
    "\n",
    "\n",
    "HTML_INPUT_DIR = Path(\"../data/html\")\n",
    "OUTPUT_DIR = Path(\"../data/dictionaries\")  # Folder contains .xlsx\n",
    "OUTPUT_DIR.mkdir(exist_ok=True)\n",
    "\n",
    "for html_path in HTML_INPUT_DIR.glob(\"*.html\"):\n",
    "    source_lang = html_path.stem.split(\"-\")[0]\n",
    "    target_lang = html_path.stem.split(\"-\")[1]\n",
    "    df = convert_html_to_xlsx(\n",
    "        html_path=html_path,\n",
    "        out_folder=OUTPUT_DIR,\n",
    "        source_lang=source_lang,\n",
    "        target_lang=target_lang,\n",
    "    )\n",
    "    print(\n",
    "        f\"Converted {html_path} to {OUTPUT_DIR / (html_path.stem + '.xlsx')} with {len(df)} entries.\"\n",
    "    )\n"
   ]
  }
 ],
 "metadata": {
  "kernelspec": {
   "display_name": "Python 3",
   "language": "python",
   "name": "python3"
  },
  "language_info": {
   "codemirror_mode": {
    "name": "ipython",
    "version": 3
   },
   "file_extension": ".py",
   "mimetype": "text/x-python",
   "name": "python",
   "nbconvert_exporter": "python",
   "pygments_lexer": "ipython3",
   "version": "3.12.8"
  }
 },
 "nbformat": 4,
 "nbformat_minor": 5
}
