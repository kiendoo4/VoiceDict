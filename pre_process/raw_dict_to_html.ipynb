{
 "cells": [
  {
   "cell_type": "code",
   "execution_count": 1,
   "id": "93c3c179",
   "metadata": {},
   "outputs": [
    {
     "name": "stdout",
     "output_type": "stream",
     "text": [
      "\u001b[34m==>\u001b[0m \u001b[1mAuto-updating Homebrew...\u001b[0m\n",
      "Adjust how often this is run with `$HOMEBREW_AUTO_UPDATE_SECS` or disable with\n",
      "`$HOMEBREW_NO_AUTO_UPDATE=1`. Hide these hints with `$HOMEBREW_NO_ENV_HINTS=1` (see `man brew`).\n",
      "\u001b[34m==>\u001b[0m \u001b[1mAuto-updated Homebrew!\u001b[0m\n",
      "Updated 2 taps (homebrew/core and homebrew/cask).\n",
      "\u001b[34m==>\u001b[0m \u001b[1mNew Formulae\u001b[0m\n",
      "doge: Command-line DNS client\n",
      "fastmcp: Fast, Pythonic way to build MCP servers and clients\n",
      "libcpucycles: Microlibrary for counting CPU cycles\n",
      "libpq@17: Postgres C API library\n",
      "lue-reader: Terminal eBook reader with text-to-speech and multi-format support\n",
      "mcp-server-chart: MCP with 25+ @antvis charts for visualization, generation, and analysis\n",
      "msedit: Simple text editor with clickable interface\n",
      "nanobot: Build MCP Agents\n",
      "postgresql@18: Object-relational database system\n",
      "wuppiefuzz: Coverage-guided REST API fuzzer developed on top of LibAFL\n",
      "\u001b[34m==>\u001b[0m \u001b[1mNew Casks\u001b[0m\n",
      "dayflow: Generate a timeline of your day, automatically\n",
      "\n",
      "You have \u001b[1m21\u001b[0m outdated formulae and \u001b[1m4\u001b[0m outdated casks installed.\n",
      "\n",
      "\u001b[32m==>\u001b[0m \u001b[1mUpgrading 1 outdated package:\u001b[0m\n",
      "calibre 8.10.0 -> 8.11.1\n",
      "\u001b[32m==>\u001b[0m \u001b[1mUpgrading \u001b[32mcalibre\u001b[39m\u001b[0m\n",
      "\u001b[34m==>\u001b[0m \u001b[1mDownloading https://download.calibre-ebook.com/8.11.1/calibre-8.11.1.dmg\u001b[0m\n",
      "######################################################################### 100.0%\n",
      "\u001b[34m==>\u001b[0m \u001b[1mBacking App 'calibre.app' up to '/opt/homebrew/Caskroom/calibre/8.10.0/calib\u001b[0m\n",
      "\u001b[34m==>\u001b[0m \u001b[1mRemoving App '/Applications/calibre.app'\u001b[0m\n",
      "\u001b[34m==>\u001b[0m \u001b[1mUnlinking Binary '/opt/homebrew/bin/calibre'\u001b[0m\n",
      "\u001b[34m==>\u001b[0m \u001b[1mUnlinking Binary '/opt/homebrew/bin/calibre-complete'\u001b[0m\n",
      "\u001b[34m==>\u001b[0m \u001b[1mUnlinking Binary '/opt/homebrew/bin/calibre-customize'\u001b[0m\n",
      "\u001b[34m==>\u001b[0m \u001b[1mUnlinking Binary '/opt/homebrew/bin/calibre-debug'\u001b[0m\n",
      "\u001b[34m==>\u001b[0m \u001b[1mUnlinking Binary '/opt/homebrew/bin/calibre-parallel'\u001b[0m\n",
      "\u001b[34m==>\u001b[0m \u001b[1mUnlinking Binary '/opt/homebrew/bin/calibre-server'\u001b[0m\n",
      "\u001b[34m==>\u001b[0m \u001b[1mUnlinking Binary '/opt/homebrew/bin/calibre-smtp'\u001b[0m\n",
      "\u001b[34m==>\u001b[0m \u001b[1mUnlinking Binary '/opt/homebrew/bin/calibredb'\u001b[0m\n",
      "\u001b[34m==>\u001b[0m \u001b[1mUnlinking Binary '/opt/homebrew/bin/ebook-convert'\u001b[0m\n",
      "\u001b[34m==>\u001b[0m \u001b[1mUnlinking Binary '/opt/homebrew/bin/ebook-device'\u001b[0m\n",
      "\u001b[34m==>\u001b[0m \u001b[1mUnlinking Binary '/opt/homebrew/bin/ebook-polish'\u001b[0m\n",
      "\u001b[34m==>\u001b[0m \u001b[1mUnlinking Binary '/opt/homebrew/bin/ebook-viewer'\u001b[0m\n",
      "\u001b[34m==>\u001b[0m \u001b[1mUnlinking Binary '/opt/homebrew/bin/fetch-ebook-metadata'\u001b[0m\n",
      "\u001b[34m==>\u001b[0m \u001b[1mUnlinking Binary '/opt/homebrew/bin/lrf2lrs'\u001b[0m\n",
      "\u001b[34m==>\u001b[0m \u001b[1mUnlinking Binary '/opt/homebrew/bin/lrfviewer'\u001b[0m\n",
      "\u001b[34m==>\u001b[0m \u001b[1mUnlinking Binary '/opt/homebrew/bin/lrs2lrf'\u001b[0m\n",
      "\u001b[34m==>\u001b[0m \u001b[1mUnlinking Binary '/opt/homebrew/bin/markdown-calibre'\u001b[0m\n",
      "\u001b[34m==>\u001b[0m \u001b[1mUnlinking Binary '/opt/homebrew/bin/web2disk'\u001b[0m\n",
      "\u001b[34m==>\u001b[0m \u001b[1mUnlinking Binary '/opt/homebrew/bin/ebook-edit'\u001b[0m\n",
      "\u001b[34m==>\u001b[0m \u001b[1mUnlinking Binary '/opt/homebrew/bin/ebook-meta'\u001b[0m\n",
      "\u001b[34m==>\u001b[0m \u001b[1mMoving App 'calibre.app' to '/Applications/calibre.app'\u001b[0m\n",
      "\u001b[34m==>\u001b[0m \u001b[1mLinking Binary 'calibre' to '/opt/homebrew/bin/calibre'\u001b[0m\n",
      "\u001b[34m==>\u001b[0m \u001b[1mLinking Binary 'calibre-complete' to '/opt/homebrew/bin/calibre-complete'\u001b[0m\n",
      "\u001b[34m==>\u001b[0m \u001b[1mLinking Binary 'calibre-customize' to '/opt/homebrew/bin/calibre-customize'\u001b[0m\n",
      "\u001b[34m==>\u001b[0m \u001b[1mLinking Binary 'calibre-debug' to '/opt/homebrew/bin/calibre-debug'\u001b[0m\n",
      "\u001b[34m==>\u001b[0m \u001b[1mLinking Binary 'calibre-parallel' to '/opt/homebrew/bin/calibre-parallel'\u001b[0m\n",
      "\u001b[34m==>\u001b[0m \u001b[1mLinking Binary 'calibre-server' to '/opt/homebrew/bin/calibre-server'\u001b[0m\n",
      "\u001b[34m==>\u001b[0m \u001b[1mLinking Binary 'calibre-smtp' to '/opt/homebrew/bin/calibre-smtp'\u001b[0m\n",
      "\u001b[34m==>\u001b[0m \u001b[1mLinking Binary 'calibredb' to '/opt/homebrew/bin/calibredb'\u001b[0m\n",
      "\u001b[34m==>\u001b[0m \u001b[1mLinking Binary 'ebook-convert' to '/opt/homebrew/bin/ebook-convert'\u001b[0m\n",
      "\u001b[34m==>\u001b[0m \u001b[1mLinking Binary 'ebook-device' to '/opt/homebrew/bin/ebook-device'\u001b[0m\n",
      "\u001b[34m==>\u001b[0m \u001b[1mLinking Binary 'ebook-polish' to '/opt/homebrew/bin/ebook-polish'\u001b[0m\n",
      "\u001b[34m==>\u001b[0m \u001b[1mLinking Binary 'ebook-viewer' to '/opt/homebrew/bin/ebook-viewer'\u001b[0m\n",
      "\u001b[34m==>\u001b[0m \u001b[1mLinking Binary 'fetch-ebook-metadata' to '/opt/homebrew/bin/fetch-ebook-meta\u001b[0m\n",
      "\u001b[34m==>\u001b[0m \u001b[1mLinking Binary 'lrf2lrs' to '/opt/homebrew/bin/lrf2lrs'\u001b[0m\n",
      "\u001b[34m==>\u001b[0m \u001b[1mLinking Binary 'lrfviewer' to '/opt/homebrew/bin/lrfviewer'\u001b[0m\n",
      "\u001b[34m==>\u001b[0m \u001b[1mLinking Binary 'lrs2lrf' to '/opt/homebrew/bin/lrs2lrf'\u001b[0m\n",
      "\u001b[34m==>\u001b[0m \u001b[1mLinking Binary 'markdown-calibre' to '/opt/homebrew/bin/markdown-calibre'\u001b[0m\n",
      "\u001b[34m==>\u001b[0m \u001b[1mLinking Binary 'web2disk' to '/opt/homebrew/bin/web2disk'\u001b[0m\n",
      "\u001b[34m==>\u001b[0m \u001b[1mLinking Binary 'ebook-edit' to '/opt/homebrew/bin/ebook-edit'\u001b[0m\n",
      "\u001b[34m==>\u001b[0m \u001b[1mLinking Binary 'ebook-meta' to '/opt/homebrew/bin/ebook-meta'\u001b[0m\n",
      "\u001b[34m==>\u001b[0m \u001b[1mPurging files for version 8.10.0 of Cask calibre\u001b[0m\n",
      "🍺  calibre was successfully upgraded!\n",
      "\u001b[34m==>\u001b[0m \u001b[1mNo outdated dependents to upgrade!\u001b[0m\n"
     ]
    }
   ],
   "source": [
    "!brew install --cask calibre"
   ]
  },
  {
   "cell_type": "code",
   "execution_count": 4,
   "id": "dd283d6e",
   "metadata": {},
   "outputs": [
    {
     "name": "stdout",
     "output_type": "stream",
     "text": [
      "Running: ebook-convert ../data/raw/ko-vi.mobi ../data/html/ko-vi.htmlz\n",
      "Converted ko-vi.mobi to ../data/html/ko-vi\n",
      "Running: ebook-convert ../data/raw/ge-vi.mobi ../data/html/ge-vi.htmlz\n",
      "Converted ge-vi.mobi to ../data/html/ge-vi\n",
      "Running: ebook-convert ../data/raw/vi-ko.mobi ../data/html/vi-ko.htmlz\n",
      "Converted vi-ko.mobi to ../data/html/vi-ko\n",
      "Running: ebook-convert ../data/raw/vi-ge.mobi ../data/html/vi-ge.htmlz\n",
      "Converted vi-ge.mobi to ../data/html/vi-ge\n"
     ]
    }
   ],
   "source": [
    "from pathlib import Path\n",
    "from dict_handler import convert_to_html\n",
    "\n",
    "\n",
    "INPUT_DIR = Path(\"../data/raw\")  # Folder contains .prc/.mobi\n",
    "OUTPUT_DIR = Path(\"../data/html\")  # Folder contains .xlsx\n",
    "\n",
    "OUTPUT_DIR.mkdir(exist_ok=True)\n",
    "\n",
    "for book in INPUT_DIR.glob(\"*\"):\n",
    "    if book.suffix.lower() in {\".mobi\", \".prc\"}:\n",
    "        convert_to_html(book, OUTPUT_DIR)\n"
   ]
  }
 ],
 "metadata": {
  "kernelspec": {
   "display_name": "Python 3",
   "language": "python",
   "name": "python3"
  },
  "language_info": {
   "codemirror_mode": {
    "name": "ipython",
    "version": 3
   },
   "file_extension": ".py",
   "mimetype": "text/x-python",
   "name": "python",
   "nbconvert_exporter": "python",
   "pygments_lexer": "ipython3",
   "version": "3.12.8"
  }
 },
 "nbformat": 4,
 "nbformat_minor": 5
}
